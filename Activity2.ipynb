{
 "cells": [
  {
   "cell_type": "code",
   "execution_count": 87,
   "id": "d55d66ea",
   "metadata": {},
   "outputs": [],
   "source": [
    "import numpy as np\n",
    "import pandas as pd\n",
    "import warnings\n",
    "warnings.filterwarnings('ignore')\n",
    "import matplotlib.pyplot as plt"
   ]
  },
  {
   "cell_type": "code",
   "execution_count": 45,
   "id": "04795556",
   "metadata": {},
   "outputs": [
    {
     "data": {
      "text/html": [
       "<div>\n",
       "<style scoped>\n",
       "    .dataframe tbody tr th:only-of-type {\n",
       "        vertical-align: middle;\n",
       "    }\n",
       "\n",
       "    .dataframe tbody tr th {\n",
       "        vertical-align: top;\n",
       "    }\n",
       "\n",
       "    .dataframe thead th {\n",
       "        text-align: right;\n",
       "    }\n",
       "</style>\n",
       "<table border=\"1\" class=\"dataframe\">\n",
       "  <thead>\n",
       "    <tr style=\"text-align: right;\">\n",
       "      <th></th>\n",
       "      <th>Index</th>\n",
       "      <th>Accident_Severity</th>\n",
       "      <th>Accident Date</th>\n",
       "      <th>Latitude</th>\n",
       "      <th>Light_Conditions</th>\n",
       "      <th>District Area</th>\n",
       "      <th>Longitude</th>\n",
       "      <th>Number_of_Casualties</th>\n",
       "      <th>Number_of_Vehicles</th>\n",
       "      <th>Road_Surface_Conditions</th>\n",
       "      <th>Road_Type</th>\n",
       "      <th>Urban_or_Rural_Area</th>\n",
       "      <th>Weather_Conditions</th>\n",
       "      <th>Vehicle_Type</th>\n",
       "    </tr>\n",
       "  </thead>\n",
       "  <tbody>\n",
       "    <tr>\n",
       "      <th>0</th>\n",
       "      <td>200701BS64157</td>\n",
       "      <td>Serious</td>\n",
       "      <td>5/6/2019</td>\n",
       "      <td>51.506187</td>\n",
       "      <td>Darkness - lights lit</td>\n",
       "      <td>Kensington and Chelsea</td>\n",
       "      <td>-0.209082</td>\n",
       "      <td>1</td>\n",
       "      <td>2</td>\n",
       "      <td>Dry</td>\n",
       "      <td>Single carriageway</td>\n",
       "      <td>Urban</td>\n",
       "      <td>Fine no high winds</td>\n",
       "      <td>Car</td>\n",
       "    </tr>\n",
       "    <tr>\n",
       "      <th>1</th>\n",
       "      <td>200701BS65737</td>\n",
       "      <td>Serious</td>\n",
       "      <td>2/7/2019</td>\n",
       "      <td>51.495029</td>\n",
       "      <td>Daylight</td>\n",
       "      <td>Kensington and Chelsea</td>\n",
       "      <td>-0.173647</td>\n",
       "      <td>1</td>\n",
       "      <td>2</td>\n",
       "      <td>Wet or damp</td>\n",
       "      <td>Single carriageway</td>\n",
       "      <td>Urban</td>\n",
       "      <td>Raining no high winds</td>\n",
       "      <td>Car</td>\n",
       "    </tr>\n",
       "    <tr>\n",
       "      <th>2</th>\n",
       "      <td>200701BS66127</td>\n",
       "      <td>Serious</td>\n",
       "      <td>26-08-2019</td>\n",
       "      <td>51.517715</td>\n",
       "      <td>Darkness - lighting unknown</td>\n",
       "      <td>Kensington and Chelsea</td>\n",
       "      <td>-0.210215</td>\n",
       "      <td>1</td>\n",
       "      <td>3</td>\n",
       "      <td>Dry</td>\n",
       "      <td>NaN</td>\n",
       "      <td>Urban</td>\n",
       "      <td>NaN</td>\n",
       "      <td>Taxi/Private hire car</td>\n",
       "    </tr>\n",
       "    <tr>\n",
       "      <th>3</th>\n",
       "      <td>200701BS66128</td>\n",
       "      <td>Serious</td>\n",
       "      <td>16-08-2019</td>\n",
       "      <td>51.495478</td>\n",
       "      <td>Daylight</td>\n",
       "      <td>Kensington and Chelsea</td>\n",
       "      <td>-0.202731</td>\n",
       "      <td>1</td>\n",
       "      <td>4</td>\n",
       "      <td>Dry</td>\n",
       "      <td>Single carriageway</td>\n",
       "      <td>Urban</td>\n",
       "      <td>Fine no high winds</td>\n",
       "      <td>Bus or coach (17 or more pass seats)</td>\n",
       "    </tr>\n",
       "    <tr>\n",
       "      <th>4</th>\n",
       "      <td>200701BS66837</td>\n",
       "      <td>Slight</td>\n",
       "      <td>3/9/2019</td>\n",
       "      <td>51.488576</td>\n",
       "      <td>Darkness - lights lit</td>\n",
       "      <td>Kensington and Chelsea</td>\n",
       "      <td>-0.192487</td>\n",
       "      <td>1</td>\n",
       "      <td>2</td>\n",
       "      <td>Dry</td>\n",
       "      <td>NaN</td>\n",
       "      <td>Urban</td>\n",
       "      <td>NaN</td>\n",
       "      <td>Other vehicle</td>\n",
       "    </tr>\n",
       "    <tr>\n",
       "      <th>...</th>\n",
       "      <td>...</td>\n",
       "      <td>...</td>\n",
       "      <td>...</td>\n",
       "      <td>...</td>\n",
       "      <td>...</td>\n",
       "      <td>...</td>\n",
       "      <td>...</td>\n",
       "      <td>...</td>\n",
       "      <td>...</td>\n",
       "      <td>...</td>\n",
       "      <td>...</td>\n",
       "      <td>...</td>\n",
       "      <td>...</td>\n",
       "      <td>...</td>\n",
       "    </tr>\n",
       "    <tr>\n",
       "      <th>660674</th>\n",
       "      <td>201091NM01760</td>\n",
       "      <td>Slight</td>\n",
       "      <td>18-02-2022</td>\n",
       "      <td>57.374005</td>\n",
       "      <td>Daylight</td>\n",
       "      <td>Highland</td>\n",
       "      <td>-3.467828</td>\n",
       "      <td>2</td>\n",
       "      <td>1</td>\n",
       "      <td>Dry</td>\n",
       "      <td>Single carriageway</td>\n",
       "      <td>Rural</td>\n",
       "      <td>Fine no high winds</td>\n",
       "      <td>Car</td>\n",
       "    </tr>\n",
       "    <tr>\n",
       "      <th>660675</th>\n",
       "      <td>201091NM01881</td>\n",
       "      <td>Slight</td>\n",
       "      <td>21-02-2022</td>\n",
       "      <td>57.232273</td>\n",
       "      <td>Darkness - no lighting</td>\n",
       "      <td>Highland</td>\n",
       "      <td>-3.809281</td>\n",
       "      <td>1</td>\n",
       "      <td>1</td>\n",
       "      <td>Frost or ice</td>\n",
       "      <td>Single carriageway</td>\n",
       "      <td>Rural</td>\n",
       "      <td>Fine no high winds</td>\n",
       "      <td>Car</td>\n",
       "    </tr>\n",
       "    <tr>\n",
       "      <th>660676</th>\n",
       "      <td>201091NM01935</td>\n",
       "      <td>Slight</td>\n",
       "      <td>23-02-2022</td>\n",
       "      <td>57.585044</td>\n",
       "      <td>Daylight</td>\n",
       "      <td>Highland</td>\n",
       "      <td>-3.862727</td>\n",
       "      <td>1</td>\n",
       "      <td>3</td>\n",
       "      <td>Frost or ice</td>\n",
       "      <td>Single carriageway</td>\n",
       "      <td>Rural</td>\n",
       "      <td>Fine no high winds</td>\n",
       "      <td>Car</td>\n",
       "    </tr>\n",
       "    <tr>\n",
       "      <th>660677</th>\n",
       "      <td>201091NM01964</td>\n",
       "      <td>Serious</td>\n",
       "      <td>23-02-2022</td>\n",
       "      <td>57.214898</td>\n",
       "      <td>Darkness - no lighting</td>\n",
       "      <td>Highland</td>\n",
       "      <td>-3.823997</td>\n",
       "      <td>1</td>\n",
       "      <td>2</td>\n",
       "      <td>Wet or damp</td>\n",
       "      <td>Single carriageway</td>\n",
       "      <td>Rural</td>\n",
       "      <td>Fine no high winds</td>\n",
       "      <td>Motorcycle over 500cc</td>\n",
       "    </tr>\n",
       "    <tr>\n",
       "      <th>660678</th>\n",
       "      <td>201091NM02142</td>\n",
       "      <td>Serious</td>\n",
       "      <td>28-02-2022</td>\n",
       "      <td>57.575210</td>\n",
       "      <td>Daylight</td>\n",
       "      <td>Highland</td>\n",
       "      <td>-3.895673</td>\n",
       "      <td>1</td>\n",
       "      <td>1</td>\n",
       "      <td>Wet or damp</td>\n",
       "      <td>Dual carriageway</td>\n",
       "      <td>Rural</td>\n",
       "      <td>Snowing no high winds</td>\n",
       "      <td>Car</td>\n",
       "    </tr>\n",
       "  </tbody>\n",
       "</table>\n",
       "<p>660679 rows × 14 columns</p>\n",
       "</div>"
      ],
      "text/plain": [
       "                Index Accident_Severity Accident Date   Latitude  \\\n",
       "0       200701BS64157           Serious      5/6/2019  51.506187   \n",
       "1       200701BS65737           Serious      2/7/2019  51.495029   \n",
       "2       200701BS66127           Serious    26-08-2019  51.517715   \n",
       "3       200701BS66128           Serious    16-08-2019  51.495478   \n",
       "4       200701BS66837            Slight      3/9/2019  51.488576   \n",
       "...               ...               ...           ...        ...   \n",
       "660674  201091NM01760            Slight    18-02-2022  57.374005   \n",
       "660675  201091NM01881            Slight    21-02-2022  57.232273   \n",
       "660676  201091NM01935            Slight    23-02-2022  57.585044   \n",
       "660677  201091NM01964           Serious    23-02-2022  57.214898   \n",
       "660678  201091NM02142           Serious    28-02-2022  57.575210   \n",
       "\n",
       "                   Light_Conditions           District Area  Longitude  \\\n",
       "0             Darkness - lights lit  Kensington and Chelsea  -0.209082   \n",
       "1                          Daylight  Kensington and Chelsea  -0.173647   \n",
       "2       Darkness - lighting unknown  Kensington and Chelsea  -0.210215   \n",
       "3                          Daylight  Kensington and Chelsea  -0.202731   \n",
       "4             Darkness - lights lit  Kensington and Chelsea  -0.192487   \n",
       "...                             ...                     ...        ...   \n",
       "660674                     Daylight                Highland  -3.467828   \n",
       "660675       Darkness - no lighting                Highland  -3.809281   \n",
       "660676                     Daylight                Highland  -3.862727   \n",
       "660677       Darkness - no lighting                Highland  -3.823997   \n",
       "660678                     Daylight                Highland  -3.895673   \n",
       "\n",
       "        Number_of_Casualties  Number_of_Vehicles Road_Surface_Conditions  \\\n",
       "0                          1                   2                     Dry   \n",
       "1                          1                   2             Wet or damp   \n",
       "2                          1                   3                     Dry   \n",
       "3                          1                   4                     Dry   \n",
       "4                          1                   2                     Dry   \n",
       "...                      ...                 ...                     ...   \n",
       "660674                     2                   1                     Dry   \n",
       "660675                     1                   1            Frost or ice   \n",
       "660676                     1                   3            Frost or ice   \n",
       "660677                     1                   2             Wet or damp   \n",
       "660678                     1                   1             Wet or damp   \n",
       "\n",
       "                 Road_Type Urban_or_Rural_Area     Weather_Conditions  \\\n",
       "0       Single carriageway               Urban     Fine no high winds   \n",
       "1       Single carriageway               Urban  Raining no high winds   \n",
       "2                      NaN               Urban                    NaN   \n",
       "3       Single carriageway               Urban     Fine no high winds   \n",
       "4                      NaN               Urban                    NaN   \n",
       "...                    ...                 ...                    ...   \n",
       "660674  Single carriageway               Rural     Fine no high winds   \n",
       "660675  Single carriageway               Rural     Fine no high winds   \n",
       "660676  Single carriageway               Rural     Fine no high winds   \n",
       "660677  Single carriageway               Rural     Fine no high winds   \n",
       "660678    Dual carriageway               Rural  Snowing no high winds   \n",
       "\n",
       "                                Vehicle_Type  \n",
       "0                                        Car  \n",
       "1                                        Car  \n",
       "2                      Taxi/Private hire car  \n",
       "3       Bus or coach (17 or more pass seats)  \n",
       "4                              Other vehicle  \n",
       "...                                      ...  \n",
       "660674                                   Car  \n",
       "660675                                   Car  \n",
       "660676                                   Car  \n",
       "660677                 Motorcycle over 500cc  \n",
       "660678                                   Car  \n",
       "\n",
       "[660679 rows x 14 columns]"
      ]
     },
     "execution_count": 45,
     "metadata": {},
     "output_type": "execute_result"
    }
   ],
   "source": [
    "ukRA = pd.read_csv(r'd:\\ELEC02\\uk_road_accident.csv')\n",
    "ukRA"
   ]
  },
  {
   "cell_type": "code",
   "execution_count": 46,
   "id": "f58019fc",
   "metadata": {},
   "outputs": [
    {
     "name": "stdout",
     "output_type": "stream",
     "text": [
      "<class 'pandas.core.frame.DataFrame'>\n",
      "RangeIndex: 660679 entries, 0 to 660678\n",
      "Data columns (total 14 columns):\n",
      " #   Column                   Non-Null Count   Dtype  \n",
      "---  ------                   --------------   -----  \n",
      " 0   Index                    660679 non-null  object \n",
      " 1   Accident_Severity        660679 non-null  object \n",
      " 2   Accident Date            660679 non-null  object \n",
      " 3   Latitude                 660654 non-null  float64\n",
      " 4   Light_Conditions         660679 non-null  object \n",
      " 5   District Area            660679 non-null  object \n",
      " 6   Longitude                660653 non-null  float64\n",
      " 7   Number_of_Casualties     660679 non-null  int64  \n",
      " 8   Number_of_Vehicles       660679 non-null  int64  \n",
      " 9   Road_Surface_Conditions  659953 non-null  object \n",
      " 10  Road_Type                656159 non-null  object \n",
      " 11  Urban_or_Rural_Area      660664 non-null  object \n",
      " 12  Weather_Conditions       646551 non-null  object \n",
      " 13  Vehicle_Type             660679 non-null  object \n",
      "dtypes: float64(2), int64(2), object(10)\n",
      "memory usage: 70.6+ MB\n"
     ]
    }
   ],
   "source": [
    "ukRA.info()"
   ]
  },
  {
   "cell_type": "code",
   "execution_count": 47,
   "id": "977c82e0",
   "metadata": {},
   "outputs": [
    {
     "data": {
      "text/plain": [
       "0         Serious\n",
       "1         Serious\n",
       "2         Serious\n",
       "3         Serious\n",
       "4          Slight\n",
       "           ...   \n",
       "660674     Slight\n",
       "660675     Slight\n",
       "660676     Slight\n",
       "660677    Serious\n",
       "660678    Serious\n",
       "Name: Accident_Severity, Length: 660679, dtype: object"
      ]
     },
     "execution_count": 47,
     "metadata": {},
     "output_type": "execute_result"
    }
   ],
   "source": [
    "accident_severity_df = ukRA['Accident_Severity']\n",
    "accident_severity_df"
   ]
  },
  {
   "cell_type": "code",
   "execution_count": 48,
   "id": "a0514f88",
   "metadata": {},
   "outputs": [
    {
     "data": {
      "text/plain": [
       "0           5/6/2019\n",
       "1           2/7/2019\n",
       "2         26-08-2019\n",
       "3         16-08-2019\n",
       "4           3/9/2019\n",
       "             ...    \n",
       "660674    18-02-2022\n",
       "660675    21-02-2022\n",
       "660676    23-02-2022\n",
       "660677    23-02-2022\n",
       "660678    28-02-2022\n",
       "Name: Accident Date, Length: 660679, dtype: object"
      ]
     },
     "execution_count": 48,
     "metadata": {},
     "output_type": "execute_result"
    }
   ],
   "source": [
    "accident_date_df = ukRA['Accident Date']\n",
    "accident_date_df"
   ]
  },
  {
   "cell_type": "code",
   "execution_count": 49,
   "id": "b6649328",
   "metadata": {},
   "outputs": [
    {
     "data": {
      "text/plain": [
       "0         51.506187\n",
       "1         51.495029\n",
       "2         51.517715\n",
       "3         51.495478\n",
       "4         51.488576\n",
       "            ...    \n",
       "660674    57.374005\n",
       "660675    57.232273\n",
       "660676    57.585044\n",
       "660677    57.214898\n",
       "660678    57.575210\n",
       "Name: Latitude, Length: 660679, dtype: float64"
      ]
     },
     "execution_count": 49,
     "metadata": {},
     "output_type": "execute_result"
    }
   ],
   "source": [
    "latitude_df = ukRA['Latitude']\n",
    "latitude_df"
   ]
  },
  {
   "cell_type": "code",
   "execution_count": 50,
   "id": "75b7553d",
   "metadata": {},
   "outputs": [
    {
     "data": {
      "text/plain": [
       "0               Darkness - lights lit\n",
       "1                            Daylight\n",
       "2         Darkness - lighting unknown\n",
       "3                            Daylight\n",
       "4               Darkness - lights lit\n",
       "                     ...             \n",
       "660674                       Daylight\n",
       "660675         Darkness - no lighting\n",
       "660676                       Daylight\n",
       "660677         Darkness - no lighting\n",
       "660678                       Daylight\n",
       "Name: Light_Conditions, Length: 660679, dtype: object"
      ]
     },
     "execution_count": 50,
     "metadata": {},
     "output_type": "execute_result"
    }
   ],
   "source": [
    "light_conditions_df = ukRA['Light_Conditions']\n",
    "light_conditions_df"
   ]
  },
  {
   "cell_type": "code",
   "execution_count": 51,
   "id": "f5c9f52d",
   "metadata": {},
   "outputs": [
    {
     "data": {
      "text/plain": [
       "0         Kensington and Chelsea\n",
       "1         Kensington and Chelsea\n",
       "2         Kensington and Chelsea\n",
       "3         Kensington and Chelsea\n",
       "4         Kensington and Chelsea\n",
       "                   ...          \n",
       "660674                  Highland\n",
       "660675                  Highland\n",
       "660676                  Highland\n",
       "660677                  Highland\n",
       "660678                  Highland\n",
       "Name: District Area, Length: 660679, dtype: object"
      ]
     },
     "execution_count": 51,
     "metadata": {},
     "output_type": "execute_result"
    }
   ],
   "source": [
    "district_area_df = ukRA['District Area']\n",
    "district_area_df"
   ]
  },
  {
   "cell_type": "code",
   "execution_count": 52,
   "id": "3d00da6e",
   "metadata": {},
   "outputs": [
    {
     "data": {
      "text/plain": [
       "0        -0.209082\n",
       "1        -0.173647\n",
       "2        -0.210215\n",
       "3        -0.202731\n",
       "4        -0.192487\n",
       "            ...   \n",
       "660674   -3.467828\n",
       "660675   -3.809281\n",
       "660676   -3.862727\n",
       "660677   -3.823997\n",
       "660678   -3.895673\n",
       "Name: Longitude, Length: 660679, dtype: float64"
      ]
     },
     "execution_count": 52,
     "metadata": {},
     "output_type": "execute_result"
    }
   ],
   "source": [
    "longitude_df = ukRA['Longitude']\n",
    "longitude_df"
   ]
  },
  {
   "cell_type": "code",
   "execution_count": 53,
   "id": "565ecebb",
   "metadata": {},
   "outputs": [
    {
     "data": {
      "text/plain": [
       "0         1\n",
       "1         1\n",
       "2         1\n",
       "3         1\n",
       "4         1\n",
       "         ..\n",
       "660674    2\n",
       "660675    1\n",
       "660676    1\n",
       "660677    1\n",
       "660678    1\n",
       "Name: Number_of_Casualties, Length: 660679, dtype: int64"
      ]
     },
     "execution_count": 53,
     "metadata": {},
     "output_type": "execute_result"
    }
   ],
   "source": [
    "num_of_casualties = ukRA['Number_of_Casualties']\n",
    "num_of_casualties"
   ]
  },
  {
   "cell_type": "code",
   "execution_count": 54,
   "id": "e38e9375",
   "metadata": {},
   "outputs": [
    {
     "data": {
      "text/plain": [
       "0         2\n",
       "1         2\n",
       "2         3\n",
       "3         4\n",
       "4         2\n",
       "         ..\n",
       "660674    1\n",
       "660675    1\n",
       "660676    3\n",
       "660677    2\n",
       "660678    1\n",
       "Name: Number_of_Vehicles, Length: 660679, dtype: int64"
      ]
     },
     "execution_count": 54,
     "metadata": {},
     "output_type": "execute_result"
    }
   ],
   "source": [
    "num_of_vehicles = ukRA['Number_of_Vehicles']\n",
    "num_of_vehicles"
   ]
  },
  {
   "cell_type": "code",
   "execution_count": 55,
   "id": "aa6a9073",
   "metadata": {},
   "outputs": [
    {
     "data": {
      "text/plain": [
       "0                  Dry\n",
       "1          Wet or damp\n",
       "2                  Dry\n",
       "3                  Dry\n",
       "4                  Dry\n",
       "              ...     \n",
       "660674             Dry\n",
       "660675    Frost or ice\n",
       "660676    Frost or ice\n",
       "660677     Wet or damp\n",
       "660678     Wet or damp\n",
       "Name: Road_Surface_Conditions, Length: 660679, dtype: object"
      ]
     },
     "execution_count": 55,
     "metadata": {},
     "output_type": "execute_result"
    }
   ],
   "source": [
    "road_surface_conditions_df = ukRA['Road_Surface_Conditions']\n",
    "road_surface_conditions_df"
   ]
  },
  {
   "cell_type": "code",
   "execution_count": 56,
   "id": "25a25c85",
   "metadata": {},
   "outputs": [
    {
     "data": {
      "text/plain": [
       "0         Single carriageway\n",
       "1         Single carriageway\n",
       "2                        NaN\n",
       "3         Single carriageway\n",
       "4                        NaN\n",
       "                 ...        \n",
       "660674    Single carriageway\n",
       "660675    Single carriageway\n",
       "660676    Single carriageway\n",
       "660677    Single carriageway\n",
       "660678      Dual carriageway\n",
       "Name: Road_Type, Length: 660679, dtype: object"
      ]
     },
     "execution_count": 56,
     "metadata": {},
     "output_type": "execute_result"
    }
   ],
   "source": [
    "road_type_df = ukRA['Road_Type']\n",
    "road_type_df"
   ]
  },
  {
   "cell_type": "code",
   "execution_count": 57,
   "id": "27fb6d5d",
   "metadata": {},
   "outputs": [
    {
     "data": {
      "text/plain": [
       "0         Urban\n",
       "1         Urban\n",
       "2         Urban\n",
       "3         Urban\n",
       "4         Urban\n",
       "          ...  \n",
       "660674    Rural\n",
       "660675    Rural\n",
       "660676    Rural\n",
       "660677    Rural\n",
       "660678    Rural\n",
       "Name: Urban_or_Rural_Area, Length: 660679, dtype: object"
      ]
     },
     "execution_count": 57,
     "metadata": {},
     "output_type": "execute_result"
    }
   ],
   "source": [
    "area_df = ukRA['Urban_or_Rural_Area']\n",
    "area_df"
   ]
  },
  {
   "cell_type": "code",
   "execution_count": 58,
   "id": "a5d831af",
   "metadata": {},
   "outputs": [
    {
     "data": {
      "text/plain": [
       "0            Fine no high winds\n",
       "1         Raining no high winds\n",
       "2                           NaN\n",
       "3            Fine no high winds\n",
       "4                           NaN\n",
       "                  ...          \n",
       "660674       Fine no high winds\n",
       "660675       Fine no high winds\n",
       "660676       Fine no high winds\n",
       "660677       Fine no high winds\n",
       "660678    Snowing no high winds\n",
       "Name: Weather_Conditions, Length: 660679, dtype: object"
      ]
     },
     "execution_count": 58,
     "metadata": {},
     "output_type": "execute_result"
    }
   ],
   "source": [
    "weather_df = ukRA['Weather_Conditions']\n",
    "weather_df"
   ]
  },
  {
   "cell_type": "code",
   "execution_count": 59,
   "id": "d6a08b0a",
   "metadata": {},
   "outputs": [
    {
     "data": {
      "text/plain": [
       "0                                          Car\n",
       "1                                          Car\n",
       "2                        Taxi/Private hire car\n",
       "3         Bus or coach (17 or more pass seats)\n",
       "4                                Other vehicle\n",
       "                          ...                 \n",
       "660674                                     Car\n",
       "660675                                     Car\n",
       "660676                                     Car\n",
       "660677                   Motorcycle over 500cc\n",
       "660678                                     Car\n",
       "Name: Vehicle_Type, Length: 660679, dtype: object"
      ]
     },
     "execution_count": 59,
     "metadata": {},
     "output_type": "execute_result"
    }
   ],
   "source": [
    "vehicle_type_df = ukRA['Vehicle_Type']\n",
    "vehicle_type_df"
   ]
  },
  {
   "cell_type": "markdown",
   "id": "771810ff",
   "metadata": {},
   "source": [
    "<h1>QUESTIONS<h1>"
   ]
  },
  {
   "cell_type": "markdown",
   "id": "7210800e",
   "metadata": {},
   "source": [
    "<h2>1. How many accidents occured in total?<h2>"
   ]
  },
  {
   "cell_type": "code",
   "execution_count": 60,
   "id": "2016a126",
   "metadata": {},
   "outputs": [
    {
     "data": {
      "text/plain": [
       "np.int64(660679)"
      ]
     },
     "execution_count": 60,
     "metadata": {},
     "output_type": "execute_result"
    }
   ],
   "source": [
    "ukRA['Accident Date'].count()\n"
   ]
  },
  {
   "cell_type": "markdown",
   "id": "1807d5db",
   "metadata": {},
   "source": [
    "INSIGHTS: There are a total of 660679 accidents."
   ]
  },
  {
   "cell_type": "markdown",
   "id": "b0525cf7",
   "metadata": {},
   "source": [
    "<h2>2.How many casualties were recorded in total?<h2>"
   ]
  },
  {
   "cell_type": "code",
   "execution_count": 61,
   "id": "6885399c",
   "metadata": {},
   "outputs": [
    {
     "data": {
      "text/plain": [
       "np.int64(896568)"
      ]
     },
     "execution_count": 61,
     "metadata": {},
     "output_type": "execute_result"
    }
   ],
   "source": [
    "ukRA['Number_of_Casualties'].sum()\n"
   ]
  },
  {
   "cell_type": "markdown",
   "id": "af89be2a",
   "metadata": {},
   "source": [
    "INSIGHTS: There are a total of 896568 casualties."
   ]
  },
  {
   "cell_type": "markdown",
   "id": "acae25c0",
   "metadata": {},
   "source": [
    "<h2>3. How many vehicles were involved in total?<h2>"
   ]
  },
  {
   "cell_type": "code",
   "execution_count": 62,
   "id": "6b245127",
   "metadata": {},
   "outputs": [
    {
     "data": {
      "text/plain": [
       "np.int64(1209872)"
      ]
     },
     "execution_count": 62,
     "metadata": {},
     "output_type": "execute_result"
    }
   ],
   "source": [
    "ukRA['Number_of_Vehicles'].sum()"
   ]
  },
  {
   "cell_type": "markdown",
   "id": "45e92a76",
   "metadata": {},
   "source": [
    "INSIGHTS: There are a total of 1209872 vehicles involved."
   ]
  },
  {
   "cell_type": "markdown",
   "id": "fb0fdd4d",
   "metadata": {},
   "source": [
    "<h2>4. What is the average number of vehicles per accident?<h2>"
   ]
  },
  {
   "cell_type": "code",
   "execution_count": 63,
   "id": "b4a4ae79",
   "metadata": {},
   "outputs": [
    {
     "data": {
      "text/plain": [
       "np.float64(1.8312554205597575)"
      ]
     },
     "execution_count": 63,
     "metadata": {},
     "output_type": "execute_result"
    }
   ],
   "source": [
    "ukRA['Number_of_Vehicles'].mean()"
   ]
  },
  {
   "cell_type": "markdown",
   "id": "e8d3a875",
   "metadata": {},
   "source": [
    "INSIGHTS: Each accident involves about 1 to 2 vehicles."
   ]
  },
  {
   "cell_type": "markdown",
   "id": "fcf00b1b",
   "metadata": {},
   "source": [
    "<h2>5. What is the average number of casualties per accident?<h2>"
   ]
  },
  {
   "cell_type": "code",
   "execution_count": 64,
   "id": "b1706f6a",
   "metadata": {},
   "outputs": [
    {
     "data": {
      "text/plain": [
       "np.float64(1.357040257068864)"
      ]
     },
     "execution_count": 64,
     "metadata": {},
     "output_type": "execute_result"
    }
   ],
   "source": [
    "ukRA['Number_of_Casualties'].mean()\n"
   ]
  },
  {
   "cell_type": "markdown",
   "id": "03ddf393",
   "metadata": {},
   "source": [
    "INSIGHTS: Each accident involves 1 casualties."
   ]
  },
  {
   "cell_type": "markdown",
   "id": "f9173e00",
   "metadata": {},
   "source": [
    "<h2>6. Which accident severity is most common?<h2>"
   ]
  },
  {
   "cell_type": "code",
   "execution_count": 65,
   "id": "35ab8817",
   "metadata": {},
   "outputs": [
    {
     "data": {
      "text/plain": [
       "0    Slight\n",
       "Name: Accident_Severity, dtype: object"
      ]
     },
     "execution_count": 65,
     "metadata": {},
     "output_type": "execute_result"
    }
   ],
   "source": [
    "ukRA['Accident_Severity'].mode()"
   ]
  },
  {
   "cell_type": "markdown",
   "id": "7eff5f7e",
   "metadata": {},
   "source": [
    "INSIGHTS: The most common accident severity is slight."
   ]
  },
  {
   "cell_type": "markdown",
   "id": "a8539c00",
   "metadata": {},
   "source": [
    "<h2>7. Which road type has the most accidents?<h2>"
   ]
  },
  {
   "cell_type": "code",
   "execution_count": 66,
   "id": "a3513219",
   "metadata": {},
   "outputs": [
    {
     "data": {
      "text/plain": [
       "0    Single carriageway\n",
       "Name: Road_Type, dtype: object"
      ]
     },
     "execution_count": 66,
     "metadata": {},
     "output_type": "execute_result"
    }
   ],
   "source": [
    "ukRA['Road_Type'].mode()\n"
   ]
  },
  {
   "cell_type": "markdown",
   "id": "a4a23799",
   "metadata": {},
   "source": [
    "INSIGHTS: The road type with the most accidents is Single carriageway."
   ]
  },
  {
   "cell_type": "markdown",
   "id": "434f7930",
   "metadata": {},
   "source": [
    "<h2>8. Which weather condition is most common during accidents?<h2>"
   ]
  },
  {
   "cell_type": "code",
   "execution_count": 67,
   "id": "1abe3600",
   "metadata": {},
   "outputs": [
    {
     "data": {
      "text/plain": [
       "0    Fine no high winds\n",
       "Name: Weather_Conditions, dtype: object"
      ]
     },
     "execution_count": 67,
     "metadata": {},
     "output_type": "execute_result"
    }
   ],
   "source": [
    "ukRA['Weather_Conditions'].mode()"
   ]
  },
  {
   "cell_type": "markdown",
   "id": "31daf413",
   "metadata": {},
   "source": [
    "INSIGHTS: Fine no high winds is the most commont weather condition during the accidents."
   ]
  },
  {
   "cell_type": "markdown",
   "id": "f558e92a",
   "metadata": {},
   "source": [
    "<h2>9. Which light condition has the most accidents?<h2>"
   ]
  },
  {
   "cell_type": "code",
   "execution_count": 68,
   "id": "6e9c7383",
   "metadata": {},
   "outputs": [
    {
     "data": {
      "text/plain": [
       "0    Daylight\n",
       "Name: Light_Conditions, dtype: object"
      ]
     },
     "execution_count": 68,
     "metadata": {},
     "output_type": "execute_result"
    }
   ],
   "source": [
    "ukRA['Light_Conditions'].mode()"
   ]
  },
  {
   "cell_type": "markdown",
   "id": "41f7c8dc",
   "metadata": {},
   "source": [
    "INSIGHTS: Daylight has the most accidents."
   ]
  },
  {
   "cell_type": "markdown",
   "id": "bd0c0780",
   "metadata": {},
   "source": [
    "<h2>10. Which road surface condition is most common?<h2>"
   ]
  },
  {
   "cell_type": "code",
   "execution_count": 69,
   "id": "53f9c093",
   "metadata": {},
   "outputs": [
    {
     "data": {
      "text/plain": [
       "0    Dry\n",
       "Name: Road_Surface_Conditions, dtype: object"
      ]
     },
     "execution_count": 69,
     "metadata": {},
     "output_type": "execute_result"
    }
   ],
   "source": [
    "ukRA['Road_Surface_Conditions'].mode()"
   ]
  },
  {
   "cell_type": "markdown",
   "id": "fb1bda5f",
   "metadata": {},
   "source": [
    "INSIGHTS: The most common road surface condition is Dry."
   ]
  },
  {
   "cell_type": "markdown",
   "id": "034cf4a1",
   "metadata": {},
   "source": [
    "<h2>11.Average casualties per district area?<h2>"
   ]
  },
  {
   "cell_type": "code",
   "execution_count": 70,
   "id": "6aea998a",
   "metadata": {},
   "outputs": [
    {
     "data": {
      "text/plain": [
       "District Area\n",
       "Aberdeen City    1.139834\n",
       "Aberdeenshire    1.310363\n",
       "Adur             1.319871\n",
       "Allerdale        1.474291\n",
       "Alnwick          1.512931\n",
       "                   ...   \n",
       "Wychavon         1.427627\n",
       "Wycombe          1.412377\n",
       "Wyre             1.378029\n",
       "Wyre Forest      1.382869\n",
       "York             1.293094\n",
       "Name: Number_of_Casualties, Length: 422, dtype: float64"
      ]
     },
     "execution_count": 70,
     "metadata": {},
     "output_type": "execute_result"
    }
   ],
   "source": [
    "ukRA.groupby('District Area')['Number_of_Casualties'].mean()"
   ]
  },
  {
   "cell_type": "markdown",
   "id": "67a866b0",
   "metadata": {},
   "source": [
    "INSIGHTS: Most districts average around 1 to 2 casualties per accident."
   ]
  },
  {
   "cell_type": "markdown",
   "id": "a9fb8ccc",
   "metadata": {},
   "source": [
    "<h2>12. Total accidents per district area?<h2>"
   ]
  },
  {
   "cell_type": "code",
   "execution_count": 71,
   "id": "5e260a3c",
   "metadata": {},
   "outputs": [
    {
     "data": {
      "text/plain": [
       "District Area\n",
       "Aberdeen City    1323\n",
       "Aberdeenshire    1930\n",
       "Adur              619\n",
       "Allerdale        1128\n",
       "Alnwick           232\n",
       "                 ... \n",
       "Wychavon         1361\n",
       "Wycombe          1729\n",
       "Wyre             1238\n",
       "Wyre Forest       969\n",
       "York             1897\n",
       "Name: Accident Date, Length: 422, dtype: int64"
      ]
     },
     "execution_count": 71,
     "metadata": {},
     "output_type": "execute_result"
    }
   ],
   "source": [
    "ukRA.groupby('District Area')['Accident Date'].count()"
   ]
  },
  {
   "cell_type": "markdown",
   "id": "ee8feeaf",
   "metadata": {},
   "source": [
    "INSIGHTS: District areas vary greatly in total accidents reported."
   ]
  },
  {
   "cell_type": "markdown",
   "id": "9dc52f80",
   "metadata": {},
   "source": [
    "<h2>13. Average vehicles per district area?<h2>"
   ]
  },
  {
   "cell_type": "code",
   "execution_count": 72,
   "id": "d89cf7ee",
   "metadata": {},
   "outputs": [
    {
     "data": {
      "text/plain": [
       "District Area\n",
       "Aberdeen City    1.637188\n",
       "Aberdeenshire    1.553368\n",
       "Adur             1.969305\n",
       "Allerdale        1.782801\n",
       "Alnwick          1.646552\n",
       "                   ...   \n",
       "Wychavon         1.828068\n",
       "Wycombe          1.866397\n",
       "Wyre             1.860258\n",
       "Wyre Forest      1.789474\n",
       "York             1.856089\n",
       "Name: Number_of_Vehicles, Length: 422, dtype: float64"
      ]
     },
     "execution_count": 72,
     "metadata": {},
     "output_type": "execute_result"
    }
   ],
   "source": [
    "ukRA.groupby('District Area')['Number_of_Vehicles'].mean()"
   ]
  },
  {
   "cell_type": "markdown",
   "id": "fc0218d4",
   "metadata": {},
   "source": [
    "INSIGHTS: Most district areas involve around 1–2 vehicles per accident."
   ]
  },
  {
   "cell_type": "markdown",
   "id": "8ef09bf1",
   "metadata": {},
   "source": [
    "<h2>14. Casualties by accident severity?<h2>"
   ]
  },
  {
   "cell_type": "code",
   "execution_count": 73,
   "id": "bf8dd7f9",
   "metadata": {},
   "outputs": [
    {
     "data": {
      "text/plain": [
       "Accident_Severity\n",
       "Fatal       16483\n",
       "Serious    129439\n",
       "Slight     750646\n",
       "Name: Number_of_Casualties, dtype: int64"
      ]
     },
     "execution_count": 73,
     "metadata": {},
     "output_type": "execute_result"
    }
   ],
   "source": [
    "ukRA.groupby('Accident_Severity')['Number_of_Casualties'].sum()"
   ]
  },
  {
   "cell_type": "markdown",
   "id": "034b3ca6",
   "metadata": {},
   "source": [
    "INSIGHTS: Slight accidents cause the highest number of casualties."
   ]
  },
  {
   "cell_type": "markdown",
   "id": "ee8c101a",
   "metadata": {},
   "source": [
    "<h2>15. Vehicles by accident severity?<h2>"
   ]
  },
  {
   "cell_type": "code",
   "execution_count": 74,
   "id": "1136cab6",
   "metadata": {},
   "outputs": [
    {
     "data": {
      "text/plain": [
       "Accident_Severity\n",
       "Fatal        15477\n",
       "Serious     148057\n",
       "Slight     1046338\n",
       "Name: Number_of_Vehicles, dtype: int64"
      ]
     },
     "execution_count": 74,
     "metadata": {},
     "output_type": "execute_result"
    }
   ],
   "source": [
    "ukRA.groupby('Accident_Severity')['Number_of_Vehicles'].sum()"
   ]
  },
  {
   "cell_type": "markdown",
   "id": "d3502198",
   "metadata": {},
   "source": [
    "INSIGHTS: Slight accidents involve the highest number of vehicles."
   ]
  },
  {
   "cell_type": "markdown",
   "id": "c9492b38",
   "metadata": {},
   "source": [
    "<h2>16. How many casualties by road type?<h2>"
   ]
  },
  {
   "cell_type": "code",
   "execution_count": 75,
   "id": "3c563aae",
   "metadata": {},
   "outputs": [
    {
     "data": {
      "text/plain": [
       "Road_Type\n",
       "Dual carriageway      146877\n",
       "One way street         16172\n",
       "Roundabout             56085\n",
       "Single carriageway    661768\n",
       "Slip road              10024\n",
       "Name: Number_of_Casualties, dtype: int64"
      ]
     },
     "execution_count": 75,
     "metadata": {},
     "output_type": "execute_result"
    }
   ],
   "source": [
    "ukRA.groupby('Road_Type')['Number_of_Casualties'].sum()"
   ]
  },
  {
   "cell_type": "markdown",
   "id": "c564c634",
   "metadata": {},
   "source": [
    "INSIGHTS: Single carriageways have the most casualties."
   ]
  },
  {
   "cell_type": "markdown",
   "id": "1e687471",
   "metadata": {},
   "source": [
    "<h2>17. Accidents by weather condition?<h2>"
   ]
  },
  {
   "cell_type": "code",
   "execution_count": 76,
   "id": "73edca5d",
   "metadata": {},
   "outputs": [
    {
     "data": {
      "text/plain": [
       "Weather_Conditions\n",
       "Fine + high winds          8554\n",
       "Fine no high winds       520885\n",
       "Fog or mist                3528\n",
       "Other                     17150\n",
       "Raining + high winds       9615\n",
       "Raining no high winds     79696\n",
       "Snowing + high winds        885\n",
       "Snowing no high winds      6238\n",
       "Name: Accident Date, dtype: int64"
      ]
     },
     "execution_count": 76,
     "metadata": {},
     "output_type": "execute_result"
    }
   ],
   "source": [
    "ukRA.groupby('Weather_Conditions')['Accident Date'].count()"
   ]
  },
  {
   "cell_type": "markdown",
   "id": "0eaf8e87",
   "metadata": {},
   "source": [
    "INSIGHTS: Fine weather with no high winds have the highest number of accidents."
   ]
  },
  {
   "cell_type": "markdown",
   "id": "8c2e7e52",
   "metadata": {},
   "source": [
    "<h2>18. Accidents by light condition?<h2>"
   ]
  },
  {
   "cell_type": "code",
   "execution_count": 77,
   "id": "d1b53722",
   "metadata": {},
   "outputs": [
    {
     "data": {
      "text/plain": [
       "Light_Conditions\n",
       "Darkness - lighting unknown      6484\n",
       "Darkness - lights lit          129335\n",
       "Darkness - lights unlit          2543\n",
       "Darkness - no lighting          37437\n",
       "Daylight                       484880\n",
       "Name: Accident Date, dtype: int64"
      ]
     },
     "execution_count": 77,
     "metadata": {},
     "output_type": "execute_result"
    }
   ],
   "source": [
    "ukRA.groupby('Light_Conditions')['Accident Date'].count()"
   ]
  },
  {
   "cell_type": "markdown",
   "id": "fae5fce2",
   "metadata": {},
   "source": [
    "INSIGHTS: Most accidents happen during daylight."
   ]
  },
  {
   "cell_type": "markdown",
   "id": "e62d5714",
   "metadata": {},
   "source": [
    "<h2>19. Which place has the most casualties, urban or rural?<h2>"
   ]
  },
  {
   "cell_type": "code",
   "execution_count": 78,
   "id": "d3a2de88",
   "metadata": {},
   "outputs": [
    {
     "data": {
      "text/plain": [
       "Urban_or_Rural_Area\n",
       "Rural          353515\n",
       "Unallocated        13\n",
       "Urban          543024\n",
       "Name: Number_of_Casualties, dtype: int64"
      ]
     },
     "execution_count": 78,
     "metadata": {},
     "output_type": "execute_result"
    }
   ],
   "source": [
    "ukRA.groupby('Urban_or_Rural_Area')['Number_of_Casualties'].sum()"
   ]
  },
  {
   "cell_type": "markdown",
   "id": "97dfd0cc",
   "metadata": {},
   "source": [
    "INSIGHTS: Urban areas have the highest number of casualties."
   ]
  },
  {
   "cell_type": "markdown",
   "id": "31b7af2b",
   "metadata": {},
   "source": [
    "<h2>20. Average casualties by vehicle type?<h2>"
   ]
  },
  {
   "cell_type": "code",
   "execution_count": 79,
   "id": "ea6a711d",
   "metadata": {},
   "outputs": [
    {
     "data": {
      "text/plain": [
       "Vehicle_Type\n",
       "Agricultural vehicle                     1.342065\n",
       "Bus or coach (17 or more pass seats)     1.349216\n",
       "Car                                      1.358841\n",
       "Data missing or out of range             1.500000\n",
       "Goods 7.5 tonnes mgw and over            1.351881\n",
       "Goods over 3.5t. and under 7.5t          1.362861\n",
       "Minibus (8 - 16 passenger seats)         1.345648\n",
       "Motorcycle 125cc and under               1.332635\n",
       "Motorcycle 50cc and under                1.337235\n",
       "Motorcycle over 125cc and up to 500cc    1.343521\n",
       "Motorcycle over 500cc                    1.359434\n",
       "Other vehicle                            1.340075\n",
       "Pedal cycle                              1.370558\n",
       "Ridden horse                             1.250000\n",
       "Taxi/Private hire car                    1.368663\n",
       "Van / Goods 3.5 tonnes mgw or under      1.354537\n",
       "Name: Number_of_Casualties, dtype: float64"
      ]
     },
     "execution_count": 79,
     "metadata": {},
     "output_type": "execute_result"
    }
   ],
   "source": [
    "ukRA.groupby('Vehicle_Type')['Number_of_Casualties'].mean()"
   ]
  },
  {
   "cell_type": "markdown",
   "id": "448aad19",
   "metadata": {},
   "source": [
    "INSIGHTS: Cars have the highest average casualties per accident."
   ]
  },
  {
   "cell_type": "code",
   "execution_count": 80,
   "id": "1c46a395",
   "metadata": {},
   "outputs": [
    {
     "data": {
      "text/plain": [
       "Index                              object\n",
       "Accident_Severity                  object\n",
       "Accident Date              datetime64[ns]\n",
       "Latitude                          float64\n",
       "Light_Conditions                   object\n",
       "District Area                      object\n",
       "Longitude                         float64\n",
       "Number_of_Casualties                int64\n",
       "Number_of_Vehicles                  int64\n",
       "Road_Surface_Conditions            object\n",
       "Road_Type                          object\n",
       "Urban_or_Rural_Area                object\n",
       "Weather_Conditions                 object\n",
       "Vehicle_Type                       object\n",
       "dtype: object"
      ]
     },
     "execution_count": 80,
     "metadata": {},
     "output_type": "execute_result"
    }
   ],
   "source": [
    "ukRA['Accident Date'] = pd.to_datetime(ukRA['Accident Date'], dayfirst = True, errors = 'coerce')\n",
    "ukRA.dtypes"
   ]
  },
  {
   "cell_type": "code",
   "execution_count": 81,
   "id": "b1eb4dc4",
   "metadata": {},
   "outputs": [],
   "source": [
    "ukRA['Year'] = ukRA['Accident Date'].dt.year\n",
    "ukRA['Month'] = ukRA['Accident Date'].dt.month\n",
    "ukRA['Day'] = ukRA['Accident Date'].dt.day\n",
    "ukRA['DayOfWeek'] = ukRA['Accident Date'].dt.dayofweek"
   ]
  },
  {
   "cell_type": "markdown",
   "id": "448aeafb",
   "metadata": {},
   "source": [
    "<h2>21. What year has the most Slight accidents?<h2>"
   ]
  },
  {
   "cell_type": "code",
   "execution_count": 82,
   "id": "5177ce0e",
   "metadata": {},
   "outputs": [
    {
     "data": {
      "text/plain": [
       "Year\n",
       "2019.0    60928\n",
       "2020.0    59875\n",
       "2021.0    56491\n",
       "2022.0    48916\n",
       "Name: count, dtype: int64"
      ]
     },
     "execution_count": 82,
     "metadata": {},
     "output_type": "execute_result"
    }
   ],
   "source": [
    "ukRA[ukRA['Accident_Severity'] == \"Slight\"][\"Year\"].value_counts()"
   ]
  },
  {
   "cell_type": "markdown",
   "id": "7c0f2c8f",
   "metadata": {},
   "source": [
    "<p>INSIGHT 1: The year 2019 has the most Slight accidents.<p>\n",
    "<br>\n",
    "<p>INSIGHT 2: The year 2022 has the least Slight accidents.<p>"
   ]
  },
  {
   "cell_type": "markdown",
   "id": "2e2776e1",
   "metadata": {},
   "source": [
    "<h2>22. What month has the most Fatal accidents?<h2>"
   ]
  },
  {
   "cell_type": "code",
   "execution_count": 83,
   "id": "e707b0f8",
   "metadata": {},
   "outputs": [
    {
     "data": {
      "text/plain": [
       "Month\n",
       "8.0     311\n",
       "10.0    309\n",
       "11.0    302\n",
       "5.0     301\n",
       "4.0     300\n",
       "9.0     299\n",
       "7.0     295\n",
       "12.0    293\n",
       "3.0     292\n",
       "1.0     272\n",
       "2.0     269\n",
       "6.0     261\n",
       "Name: count, dtype: int64"
      ]
     },
     "execution_count": 83,
     "metadata": {},
     "output_type": "execute_result"
    }
   ],
   "source": [
    "ukRA[ukRA['Accident_Severity']== 'Fatal']['Month'].value_counts()"
   ]
  },
  {
   "cell_type": "markdown",
   "id": "eefcf04a",
   "metadata": {},
   "source": [
    "<p>INSIGHT 1: The month August has the most fatal accidents.<p>\n",
    "<br>\n",
    "<p>INSIGHT 2: There are a total of 311 accidents in the month of August.<p>"
   ]
  },
  {
   "cell_type": "markdown",
   "id": "b09ae7c6",
   "metadata": {},
   "source": [
    "<h2>23. How many number of casualties are there per accident each year?<h2>"
   ]
  },
  {
   "cell_type": "markdown",
   "id": "1e5afe14",
   "metadata": {},
   "source": []
  },
  {
   "cell_type": "code",
   "execution_count": 84,
   "id": "62244d83",
   "metadata": {},
   "outputs": [
    {
     "data": {
      "text/plain": [
       "Year\n",
       "2019.0    1.358092\n",
       "2020.0    1.349002\n",
       "2021.0    1.351115\n",
       "2022.0    1.349934\n",
       "Name: Number_of_Casualties, dtype: float64"
      ]
     },
     "execution_count": 84,
     "metadata": {},
     "output_type": "execute_result"
    }
   ],
   "source": [
    "ukRA.groupby(\"Year\")[\"Number_of_Casualties\"].mean()"
   ]
  },
  {
   "cell_type": "markdown",
   "id": "a4ddf522",
   "metadata": {},
   "source": [
    "<p>INSIGHT: There's amn average of 1 casualty per accident each year.<p>"
   ]
  },
  {
   "cell_type": "markdown",
   "id": "e5a542de",
   "metadata": {},
   "source": [
    "<h2>24. Which year recorded the most Fatal accidents?<h2>"
   ]
  },
  {
   "cell_type": "code",
   "execution_count": 85,
   "id": "6dafbf51",
   "metadata": {},
   "outputs": [
    {
     "data": {
      "text/plain": [
       "Year\n",
       "2019.0    1116\n",
       "2020.0     942\n",
       "2021.0     823\n",
       "2022.0     623\n",
       "Name: count, dtype: int64"
      ]
     },
     "execution_count": 85,
     "metadata": {},
     "output_type": "execute_result"
    }
   ],
   "source": [
    "ukRA[ukRA['Accident_Severity'] == \"Fatal\"][\"Year\"].value_counts()"
   ]
  },
  {
   "cell_type": "markdown",
   "id": "27c6afc2",
   "metadata": {},
   "source": [
    "<p>INSIGHT 1: The year 2019 has the most Fatal accidents.<p>\n",
    "<br>\n",
    "<p>INSIGHT 2: The year 2022 has the least Fatal accidents.<p>\n"
   ]
  },
  {
   "cell_type": "markdown",
   "id": "0d4c6c49",
   "metadata": {},
   "source": [
    "<h2>25. Which day of the week has the most Serious accidents?<h2>"
   ]
  },
  {
   "cell_type": "code",
   "execution_count": 86,
   "id": "d7936c59",
   "metadata": {},
   "outputs": [
    {
     "data": {
      "text/plain": [
       "DayOfWeek\n",
       "5.0    5596\n",
       "4.0    5218\n",
       "6.0    5089\n",
       "2.0    5001\n",
       "3.0    4933\n",
       "1.0    4848\n",
       "0.0    4608\n",
       "Name: count, dtype: int64"
      ]
     },
     "execution_count": 86,
     "metadata": {},
     "output_type": "execute_result"
    }
   ],
   "source": [
    "ukRA[ukRA['Accident_Severity'] == \"Serious\"][\"DayOfWeek\"].value_counts()"
   ]
  },
  {
   "cell_type": "markdown",
   "id": "14e6bf40",
   "metadata": {},
   "source": [
    "<p>INSIGHT 1: Friday has the most Serious accidents.<p>\n",
    "<br>\n",
    "<p>INSIGHT 2: Weekdays has the least Serious accidents.<p>"
   ]
  },
  {
   "cell_type": "code",
   "execution_count": 89,
   "id": "e9ab3c02",
   "metadata": {},
   "outputs": [
    {
     "data": {
      "image/png": "[encoded data removed]",
      "text/plain": [
       "<Figure size 640x480 with 1 Axes>"
      ]
     },
     "metadata": {},
     "output_type": "display_data"
    },
    {
     "data": {
      "image/png": "[encoded data removed]",
      "text/plain": [
       "<Figure size 640x480 with 1 Axes>"
      ]
     },
     "metadata": {},
     "output_type": "display_data"
    },
    {
     "name": "stdout",
     "output_type": "stream",
     "text": [
      "DayOfWeek\n",
      "Monday       28564\n",
      "Tuesday      38714\n",
      "Wednesday    40037\n",
      "Thursday     39641\n",
      "Friday       39822\n",
      "Saturday     43164\n",
      "Sunday       35065\n",
      "Name: count, dtype: int64\n"
     ]
    },
    {
     "data": {
      "image/png": "[encoded data removed]",
      "text/plain": [
       "<Figure size 640x480 with 1 Axes>"
      ]
     },
     "metadata": {},
     "output_type": "display_data"
    }
   ],
   "source": [
    "accidents_per_year = ukRA['Year'].value_counts().sort_index()\n",
    "accidents_per_month = ukRA['Month'].value_counts().sort_index()\n",
    "accidents_per_day = ukRA['DayOfWeek'].value_counts().sort_index()\n",
    "\n",
    "\n",
    "#PER YEAR \n",
    "accidents_per_year.plot(kind='bar')\n",
    "plt.title('Accidents per Year')\n",
    "plt.xlabel('Year')\n",
    "plt.ylabel('Number of Accidents')\n",
    "plt.show()\n",
    "\n",
    "month_names = {\n",
    "    1: 'January', 2: 'February', 3: 'March', 4: 'April',\n",
    "    5: 'May', 6: 'June', 7: 'July', 8: 'August',\n",
    "    9: 'September', 10: 'October', 11: 'November', 12: 'December'\n",
    "}\n",
    "\n",
    "# Replace numerical months with their names\n",
    "accidents_per_month.index = accidents_per_month.index.map(month_names)\n",
    "\n",
    "\n",
    "accidents_per_month.plot(kind='bar')\n",
    "plt.title('Accidents per Month')\n",
    "plt.xlabel('Month')\n",
    "plt.ylabel('Number of Accidents')\n",
    "plt.show()\n",
    "\n",
    "\n",
    "#accident per day\n",
    "day_names = {\n",
    "    0: 'Monday',\n",
    "    1: 'Tuesday',\n",
    "    2: 'Wednesday',\n",
    "    3: 'Thursday',\n",
    "    4: 'Friday',\n",
    "    5: 'Saturday',\n",
    "    6: 'Sunday'\n",
    "}\n",
    "\n",
    "accidents_per_day.index = accidents_per_day.index.map(day_names)\n",
    "accidents_per_day.plot(kind='bar')\n",
    "print(accidents_per_day)"
   ]
  },
  {
   "cell_type": "markdown",
   "id": "259f2c5e",
   "metadata": {},
   "source": [
    "<h1>Using District Area to make a comparison to general result<h1>"
   ]
  },
  {
   "cell_type": "markdown",
   "id": "42f1f2f2",
   "metadata": {},
   "source": [
    "<h2>1. What Month has the highest road accidents in Manchester and what year did it occur the most?<h2>"
   ]
  },
  {
   "cell_type": "code",
   "execution_count": 92,
   "id": "be26cb2a",
   "metadata": {},
   "outputs": [
    {
     "data": {
      "image/png": "[encoded data removed]",
      "text/plain": [
       "<Figure size 1000x500 with 1 Axes>"
      ]
     },
     "metadata": {},
     "output_type": "display_data"
    }
   ],
   "source": [
    "manchester_df = ukRA[ukRA['District Area'] == 'Manchester']\n",
    "\n",
    "monthly_manchesterdata = manchester_df.groupby(['Year', 'Month']).size()\n",
    "\n",
    "monthly_manchesterdata = monthly_manchesterdata.unstack(level=0)\n",
    "\n",
    "monthly_manchesterdata.plot(\n",
    "    marker='o', \n",
    "    figsize=(10, 5),\n",
    "    title='Monthly Road Accidents in London by Year (2019-2022)'\n",
    ")\n",
    "plt.xticks(range(1, 13), ['Jan','Feb','Mar','Apr','May','Jun','Jul','Aug','Sep','Oct','Nov','Dec'])\n",
    "plt.legend(title='Yearly Accident Comparison', bbox_to_anchor = (1.05,1), loc='upper left')\n",
    "plt.grid(alpha=0.3)\n",
    "plt.show()"
   ]
  },
  {
   "cell_type": "markdown",
   "id": "b68b5434",
   "metadata": {},
   "source": [
    "<h3>INSIGHT 1: The data tells that the month May has the highest accidents occured in Manceshter during the year 2021.<h3>\n",
    "<br>\n",
    "<h3>INSIGHT 2: Based on the data given above, the month January in the year 2022 has the lowest accidents in Manchester.<h3>"
   ]
  },
  {
   "cell_type": "markdown",
   "id": "2e7b0e35",
   "metadata": {},
   "source": [
    "<h1>2. What kind of accidents occured the most in Sandwell in the year 2019?<h1>"
   ]
  },
  {
   "cell_type": "code",
   "execution_count": null,
   "id": "8ba996fe",
   "metadata": {},
   "outputs": [
    {
     "data": {
      "image/png": "[encoded data removed]",
      "text/plain": [
       "<Figure size 800x600 with 1 Axes>"
      ]
     },
     "metadata": {},
     "output_type": "display_data"
    }
   ],
   "source": [
    "sandwell_2019 = ukRA[(ukRA['District Area'] == 'Sandwell') & (ukRA['Year'] == 2019)]\n",
    "\n",
    "severity_sandwell_2019 = sandwell_2019['Accident_Severity'].value_counts()\n",
    "\n",
    "plt.pie(severity_sandwell_2019,\n",
    "        labels=severity_sandwell_2019.index,\n",
    "        autopct='%1.1f%%',\n",
    "        startangle=90)\n",
    "plt.gcf().set_size_inches(8, 6)\n",
    "plt.title('Accident Severity in Sandwell (2019)')\n",
    "plt.show()\n"
   ]
  },
  {
   "cell_type": "markdown",
   "id": "655bee08",
   "metadata": {},
   "source": [
    "<h3>INSIGHT 1: Based on the pie graph given, the most accidents that occured in Sandwell in the year 2019 are Slight accidents.<h3>\n",
    "<br>\n",
    "<h3>INSIGHT 2: The graph tells us that there are 87.3% of Slight accidents that happened in Sandwell in the year 2019.<h3>\n",
    "<br>\n",
    "<h3>INSIGHT 3: The second most accidents that happened in Sandwell in the year 2019 are Serious accidents with 12.4% occured, followed by Fatal accidents with a 0.3% occurance.<h3>"
   ]
  },
  {
   "cell_type": "code",
   "execution_count": 98,
   "id": "91c02d4e",
   "metadata": {},
   "outputs": [
    {
     "data": {
      "text/plain": [
       "array(['Kensington and Chelsea', 'Westminster', 'Richmond upon Thames',\n",
       "       'Hammersmith and Fulham', 'Hounslow', 'Tower Hamlets',\n",
       "       'City of London', 'Southwark', 'Camden', 'Hackney', 'Islington',\n",
       "       'Barnet', 'Brent', 'Haringey', 'Merton', 'Ealing', 'Enfield',\n",
       "       'Greenwich', 'Newham', 'London Airport (Heathrow)', 'Hillingdon',\n",
       "       'Waltham Forest', 'Redbridge', 'Barking and Dagenham', 'Bromley',\n",
       "       'Havering', 'Croydon', 'Lambeth', 'Wandsworth', 'Sutton', 'Bexley',\n",
       "       'Lewisham', 'Harrow', 'Kingston upon Thames', 'Barrow-in-Furness',\n",
       "       'South Lakeland', 'Carlisle', 'Eden', 'Allerdale', 'Copeland',\n",
       "       'Fylde', 'Blackpool', 'Wyre', 'Lancaster', 'Chorley',\n",
       "       'West Lancashire', 'South Ribble', 'Preston',\n",
       "       'Blackburn with Darwen', 'Hyndburn', 'Ribble Valley', 'Burnley',\n",
       "       'Pendle', 'Rossendale', 'Wirral', 'Liverpool', 'Sefton',\n",
       "       'Knowsley', 'St. Helens', 'Manchester', 'Salford', 'Tameside',\n",
       "       'Stockport', 'Bolton', 'Wigan', 'Trafford', 'Bury', 'Rochdale',\n",
       "       'Oldham', 'Chester', 'Vale Royal', 'Halton', 'Warrington',\n",
       "       'Crewe and ntwich', 'Ellesmere Port and Neston', 'Congleton',\n",
       "       'Macclesfield', 'Crewe and Nantwich', 'Blyth Valley', 'Sunderland',\n",
       "       'Gateshead', 'North Tyneside', 'Tynedale', 'Berwick-upon-Tweed',\n",
       "       'Newcastle upon Tyne', 'Castle Morpeth', 'South Tyneside',\n",
       "       'Wansbeck', 'Alnwick', 'Wear Valley', 'Sedgefield', 'Durham',\n",
       "       'Easington', 'Chester-le-Street', 'Derwentside', 'Teesdale',\n",
       "       'Darlington', 'Craven', 'Hambleton', 'Richmondshire', 'York',\n",
       "       'Harrogate', 'Selby', 'Scarborough', 'Ryedale', 'Kirklees',\n",
       "       'Leeds', 'Wakefield', 'Bradford', 'Calderdale', 'Doncaster',\n",
       "       'Barnsley', 'Sheffield', 'Rotherham', 'North East Lincolnshire',\n",
       "       'North Lincolnshire', 'East Riding of Yorkshire',\n",
       "       'Kingston upon Hull, City of', 'Redcar and Cleveland',\n",
       "       'Hartlepool', 'Middlesbrough', 'Stockton-on-Tees', 'Birmingham',\n",
       "       'Wolverhampton', 'Walsall', 'Dudley', 'Sandwell', 'Solihull',\n",
       "       'Coventry', 'Newcastle-under-Lyme', 'Stafford',\n",
       "       'East Staffordshire', 'South Staffordshire', 'Lichfield',\n",
       "       'Stoke-on-Trent', 'Cannock Chase', 'Tamworth',\n",
       "       'Staffordshire Moorlands', 'Malvern Hills', 'Worcester',\n",
       "       'Wychavon', 'Wyre Forest', 'Redditch', 'Bromsgrove',\n",
       "       'Herefordshire, County of', 'Telford and Wrekin',\n",
       "       'South Shropshire', 'Bridgnorth', 'Shrewsbury and Atcham',\n",
       "       'North Shropshire', 'Oswestry', 'Warwick', 'Stratford-upon-Avon',\n",
       "       'Rugby', 'North Warwickshire', 'Nuneaton and Bedworth',\n",
       "       'Amber Valley', 'Erewash', 'Bolsover', 'High Peak',\n",
       "       'Derbyshire Dales', 'North East Derbyshire', 'Chesterfield',\n",
       "       'Derby', 'South Derbyshire', 'Ashfield', 'Mansfield',\n",
       "       'Newark and Sherwood', 'Bassetlaw', 'Gedling', 'Rushcliffe',\n",
       "       'Nottingham', 'Broxtowe', 'South Holland', 'South Kesteven',\n",
       "       'North Kesteven', 'East Lindsey', 'Boston', 'West Lindsey',\n",
       "       'Lincoln', 'Hinckley and Bosworth', 'Harborough', 'Leicester',\n",
       "       'Rutland', 'Charnwood', 'Melton', 'North West Leicestershire',\n",
       "       'Blaby', 'Oadby and Wigston', 'South Northamptonshire',\n",
       "       'Northampton', 'Kettering', 'Corby', 'Daventry',\n",
       "       'East Northamptonshire', 'Wellingborough', 'South Cambridgeshire',\n",
       "       'Fenland', 'Huntingdonshire', 'Peterborough',\n",
       "       'East Cambridgeshire', 'Cambridge', \"King's Lynn and West Norfolk\",\n",
       "       'Norwich', 'Breckland', 'South Norfolk', 'Broadland',\n",
       "       'Great Yarmouth', 'North Norfolk', 'St. Edmundsbury', 'Babergh',\n",
       "       'Mid Suffolk', 'Forest Heath', 'Suffolk Coastal', 'Ipswich',\n",
       "       'Waveney', 'Luton', 'Mid Bedfordshire', 'Bedford',\n",
       "       'South Bedfordshire', 'East Hertfordshire', 'North Hertfordshire',\n",
       "       'Welwyn Hatfield', 'St. Albans', 'Hertsmere', 'Three Rivers',\n",
       "       'Watford', 'Dacorum', 'Broxbourne', 'Stevege', 'Stevenage',\n",
       "       'Epping Forest', 'Brentwood', 'Castle Point', 'Uttlesford',\n",
       "       'Chelmsford', 'Basildon', 'Tendring', 'Colchester', 'Thurrock',\n",
       "       'Braintree', 'Rochford', 'Maldon', 'Southend-on-Sea', 'Harlow',\n",
       "       'Aylesbury Vale', 'Wycombe', 'South Bucks', 'Chiltern', 'Slough',\n",
       "       'Windsor and Maidenhead', 'South Oxfordshire', 'Milton Keynes',\n",
       "       'Cherwell', 'Vale of White Horse', 'West Oxfordshire', 'Oxford',\n",
       "       'Reading', 'West Berkshire', 'Wokingham', 'Bracknell Forest',\n",
       "       'Eastleigh', 'Test Valley', 'Portsmouth', 'Winchester',\n",
       "       'Basingstoke and Deane', 'Southampton', 'Fareham', 'Hart',\n",
       "       'Gosport', 'Havant', 'Isle of Wight', 'East Hampshire', 'Rushmoor',\n",
       "       'New Forest', 'Elmbridge', 'Mole Valley', 'Guildford',\n",
       "       'Spelthorne', 'Epsom and Ewell', 'Runnymede', 'Woking',\n",
       "       'Reigate and Banstead', 'Surrey Heath', 'Waverley', 'Tandridge',\n",
       "       'Medway', 'Thanet', 'Shepway', 'Ashford', 'Maidstone', 'Dover',\n",
       "       'Tunbridge Wells', 'Canterbury', 'Tonbridge and Malling', 'Swale',\n",
       "       'Dartford', 'Sevenoaks', 'Gravesham', 'Brighton and Hove',\n",
       "       'Chichester', 'Rother', 'Lewes', 'Wealden', 'Eastbourne',\n",
       "       'Hastings', 'Crawley', 'Horsham', 'Mid Sussex', 'Arun', 'Adur',\n",
       "       'Worthing', 'Kerrier', 'Restormel', 'Carrick', 'Penwith',\n",
       "       'North Cornwall', 'West Devon', 'Torridge', 'Caradon',\n",
       "       'North Devon', 'Mid Devon', 'Exeter', 'East Devon', 'Teignbridge',\n",
       "       'Plymouth', 'South Hams', 'Torbay', 'Bristol, City of',\n",
       "       'South Somerset', 'Sedgemoor', 'Mendip', 'Taunton Deane',\n",
       "       'South Gloucestershire', 'North Somerset',\n",
       "       'Bath and North East Somerset', 'West Somerset', 'Stroud',\n",
       "       'Tewkesbury', 'Gloucester', 'Cotswold', 'Cheltenham',\n",
       "       'Forest of Dean', 'Salisbury', 'Kennet', 'West Wiltshire',\n",
       "       'North Wiltshire', 'Swindon', 'Bournemouth', 'Poole',\n",
       "       'East Dorset', 'West Dorset', 'Weymouth and Portland',\n",
       "       'Christchurch', 'Purbeck', 'North Dorset', 'Isle of Anglesey',\n",
       "       'Conwy', 'Denbighshire', 'Flintshire', 'Wrexham', 'Gwynedd',\n",
       "       'Monmouthshire', 'Newport', 'Caerphilly', 'Torfaen', 'Blaeu Gwent',\n",
       "       'Blaenau Gwent', 'Merthyr Tydfil', 'The Vale of Glamorgan',\n",
       "       'Cardiff', 'Rhondda, Cynon, Taff', 'Swansea', 'Bridgend',\n",
       "       'Neath Port Talbot', 'Carmarthenshire', 'Ceredigion',\n",
       "       'Pembrokeshire', 'Powys', 'Highland', 'Western Isles',\n",
       "       'Orkney Islands', 'Shetland Islands', 'Aberdeenshire', 'Moray',\n",
       "       'Aberdeen City', 'Dundee City', 'Angus', 'Perth and Kinross',\n",
       "       'Fife', 'East Lothian', 'Midlothian', 'Scottish Borders',\n",
       "       'Edinburgh, City of', 'West Lothian', 'Falkirk',\n",
       "       'Clackmannanshire', 'Stirling', 'Clackmannshire', 'Glasgow City',\n",
       "       'East Dunbartonshire', 'North Larkshire', 'North Lanarkshire',\n",
       "       'Renfrewshire', 'East Renfrewshire', 'East Ayrshire',\n",
       "       'South Larkshire', 'Inverclyde', 'West Dunbartonshire',\n",
       "       'Argyll and Bute', 'South Lanarkshire', 'North Ayrshire',\n",
       "       'South Ayrshire', 'Dumfries and Galloway', 'Cheshire East',\n",
       "       'Cheshire West and Chester', 'Northumberland', 'County Durham',\n",
       "       'Shropshire', 'Central Bedfordshire', 'Cornwall', 'Wiltshire'],\n",
       "      dtype=object)"
      ]
     },
     "execution_count": 98,
     "metadata": {},
     "output_type": "execute_result"
    }
   ],
   "source": [
    "ukRA[\"District Area\"].unique()"
   ]
  },
  {
   "cell_type": "markdown",
   "id": "d16677c6",
   "metadata": {},
   "source": [
    "<h1>3. What Year, Month, and Day of the week has the highest accidents in Chesire East?<h1>"
   ]
  },
  {
   "cell_type": "code",
   "execution_count": 99,
   "id": "61f570ee",
   "metadata": {},
   "outputs": [
    {
     "data": {
      "image/png": "[encoded data removed]",
      "text/plain": [
       "<Figure size 640x480 with 1 Axes>"
      ]
     },
     "metadata": {},
     "output_type": "display_data"
    },
    {
     "data": {
      "image/png": "[encoded data removed]",
      "text/plain": [
       "<Figure size 640x480 with 1 Axes>"
      ]
     },
     "metadata": {},
     "output_type": "display_data"
    },
    {
     "name": "stdout",
     "output_type": "stream",
     "text": [
      "DayOfWeek\n",
      "Monday        91\n",
      "Tuesday      133\n",
      "Wednesday    133\n",
      "Thursday     107\n",
      "Friday       131\n",
      "Saturday     145\n",
      "Sunday       116\n",
      "Name: count, dtype: int64\n"
     ]
    },
    {
     "data": {
      "image/png": "[encoded data removed]",
      "text/plain": [
       "<Figure size 640x480 with 1 Axes>"
      ]
     },
     "metadata": {},
     "output_type": "display_data"
    }
   ],
   "source": [
    "chesire_east_df = ukRA[ukRA['District Area'] == 'Cheshire East']\n",
    "\n",
    "# Accidents per year\n",
    "accidents_per_year = chesire_east_df['Year'].value_counts().sort_index()\n",
    "accidents_per_month = chesire_east_df['Month'].value_counts().sort_index()\n",
    "accidents_per_day = chesire_east_df['DayOfWeek'].value_counts().sort_index()\n",
    "\n",
    "\n",
    "#PER YEAR \n",
    "accidents_per_year.plot(kind='bar')\n",
    "plt.title('Accidents per Year')\n",
    "plt.xlabel('Year')\n",
    "plt.ylabel('Number of Accidents')\n",
    "plt.show()\n",
    "\n",
    "month_names = {\n",
    "    1: 'January', 2: 'February', 3: 'March', 4: 'April',\n",
    "    5: 'May', 6: 'June', 7: 'July', 8: 'August',\n",
    "    9: 'September', 10: 'October', 11: 'November', 12: 'December'\n",
    "}\n",
    "\n",
    "# Replace numerical months with their names\n",
    "accidents_per_month.index = accidents_per_month.index.map(month_names)\n",
    "\n",
    "\n",
    "accidents_per_month.plot(kind='bar')\n",
    "plt.title('Accidents per Month')\n",
    "plt.xlabel('Month')\n",
    "plt.ylabel('Number of Accidents')\n",
    "plt.show()\n",
    "\n",
    "\n",
    "#accident per day\n",
    "day_names = {\n",
    "    0: 'Monday',\n",
    "    1: 'Tuesday',\n",
    "    2: 'Wednesday',\n",
    "    3: 'Thursday',\n",
    "    4: 'Friday',\n",
    "    5: 'Saturday',\n",
    "    6: 'Sunday'\n",
    "}\n",
    "\n",
    "accidents_per_day.index = accidents_per_day.index.map(day_names)\n",
    "accidents_per_day.plot(kind='bar')\n",
    "print(accidents_per_day)"
   ]
  },
  {
   "cell_type": "markdown",
   "id": "b968168c",
   "metadata": {},
   "source": [
    "<h2>INSIGHT 1: Based on the first bar graph, the year 2022 has more accidents compared to 2021, where as both of the years recorded over 400 accidents.<h2>\n",
    "<br>\n",
    "<h2>INSIGHT 2: The second graph tells us that December and September recorded the highest number of accidents, while January has the least number of accidents compared to all other months.<h2>\n",
    "<br>\n",
    "<h2>INSIGHT 3: In the last visualization, you can see that the Saturday has recorded the most accidents among all days of the week, meanwhiule Monday has the least number of accidents compared to other days.<h2>"
   ]
  }
 ],
 "metadata": {
  "kernelspec": {
   "display_name": "Python 3",
   "language": "python",
   "name": "python3"
  },
  "language_info": {
   "codemirror_mode": {
    "name": "ipython",
    "version": 3
   },
   "file_extension": ".py",
   "mimetype": "text/x-python",
   "name": "python",
   "nbconvert_exporter": "python",
   "pygments_lexer": "ipython3",
   "version": "3.13.7"
  }
 },
 "nbformat": 4,
 "nbformat_minor": 5
}
